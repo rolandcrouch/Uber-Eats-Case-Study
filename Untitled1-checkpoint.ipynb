{
 "cells": [
  {
   "cell_type": "code",
   "execution_count": 29,
   "metadata": {},
   "outputs": [],
   "source": [
    "import pandas as pd\n",
    "import datetime as dt\n",
    "import seaborn as sns\n",
    "import matplotlib as mlt"
   ]
  },
  {
   "cell_type": "code",
   "execution_count": 30,
   "metadata": {},
   "outputs": [],
   "source": [
    "df = pd.read_csv(r\"C:\\Users\\vd35\\Downloads\\Q2_EAM_growth hacking.csv\")"
   ]
  },
  {
   "cell_type": "code",
   "execution_count": 31,
   "metadata": {},
   "outputs": [
    {
     "data": {
      "text/html": [
       "<div>\n",
       "<style scoped>\n",
       "    .dataframe tbody tr th:only-of-type {\n",
       "        vertical-align: middle;\n",
       "    }\n",
       "\n",
       "    .dataframe tbody tr th {\n",
       "        vertical-align: top;\n",
       "    }\n",
       "\n",
       "    .dataframe thead th {\n",
       "        text-align: right;\n",
       "    }\n",
       "</style>\n",
       "<table border=\"1\" class=\"dataframe\">\n",
       "  <thead>\n",
       "    <tr style=\"text-align: right;\">\n",
       "      <th></th>\n",
       "      <th>CREATED_DATE</th>\n",
       "      <th>USER_ID</th>\n",
       "      <th>TRIP_ID</th>\n",
       "      <th>RESTAURANTS</th>\n",
       "      <th>CITY</th>\n",
       "      <th>AMOUNT $</th>\n",
       "    </tr>\n",
       "  </thead>\n",
       "  <tbody>\n",
       "    <tr>\n",
       "      <th>0</th>\n",
       "      <td>2017-01-08 23:50:18</td>\n",
       "      <td>5bd4f815-467c-472b-8c0c-d5dbc4699d72</td>\n",
       "      <td>3ce8893f-95f8-446e-8425-a4ee3894075e</td>\n",
       "      <td>McDonald</td>\n",
       "      <td>Manchester</td>\n",
       "      <td>$256.37</td>\n",
       "    </tr>\n",
       "    <tr>\n",
       "      <th>1</th>\n",
       "      <td>2017-01-08 23:25:27</td>\n",
       "      <td>5c66f743-cba3-48aa-86a7-2562d051c277</td>\n",
       "      <td>56e241c8-024f-4233-ac70-a557946b6f1e</td>\n",
       "      <td>Starbucks</td>\n",
       "      <td>Manchester</td>\n",
       "      <td>$19.40</td>\n",
       "    </tr>\n",
       "    <tr>\n",
       "      <th>2</th>\n",
       "      <td>2017-01-08 22:54:55</td>\n",
       "      <td>9818f617-fb92-42f9-9862-e471ac890a17</td>\n",
       "      <td>d2c618b2-1959-4fa5-bc7f-afe995461db8</td>\n",
       "      <td>McDonald</td>\n",
       "      <td>Manchester</td>\n",
       "      <td>$319.96</td>\n",
       "    </tr>\n",
       "    <tr>\n",
       "      <th>3</th>\n",
       "      <td>2017-01-08 22:36:21</td>\n",
       "      <td>9818f617-fb92-42f9-9862-e471ac890a17</td>\n",
       "      <td>9f96f6f2-9b23-4b86-965d-354cd1b42fc1</td>\n",
       "      <td>Leon</td>\n",
       "      <td>Manchester</td>\n",
       "      <td>$121.76</td>\n",
       "    </tr>\n",
       "    <tr>\n",
       "      <th>4</th>\n",
       "      <td>2017-01-08 22:07:16</td>\n",
       "      <td>71aa9559-601d-43a8-bee0-352862ebb72a</td>\n",
       "      <td>aa4bc253-ee24-4095-8a21-8d7f493f54f0</td>\n",
       "      <td>Itsu</td>\n",
       "      <td>Manchester</td>\n",
       "      <td>$196.30</td>\n",
       "    </tr>\n",
       "  </tbody>\n",
       "</table>\n",
       "</div>"
      ],
      "text/plain": [
       "          CREATED_DATE                               USER_ID  \\\n",
       "0  2017-01-08 23:50:18  5bd4f815-467c-472b-8c0c-d5dbc4699d72   \n",
       "1  2017-01-08 23:25:27  5c66f743-cba3-48aa-86a7-2562d051c277   \n",
       "2  2017-01-08 22:54:55  9818f617-fb92-42f9-9862-e471ac890a17   \n",
       "3  2017-01-08 22:36:21  9818f617-fb92-42f9-9862-e471ac890a17   \n",
       "4  2017-01-08 22:07:16  71aa9559-601d-43a8-bee0-352862ebb72a   \n",
       "\n",
       "                                TRIP_ID RESTAURANTS        CITY AMOUNT $  \n",
       "0  3ce8893f-95f8-446e-8425-a4ee3894075e    McDonald  Manchester  $256.37  \n",
       "1  56e241c8-024f-4233-ac70-a557946b6f1e   Starbucks  Manchester   $19.40  \n",
       "2  d2c618b2-1959-4fa5-bc7f-afe995461db8    McDonald  Manchester  $319.96  \n",
       "3  9f96f6f2-9b23-4b86-965d-354cd1b42fc1        Leon  Manchester  $121.76  \n",
       "4  aa4bc253-ee24-4095-8a21-8d7f493f54f0        Itsu  Manchester  $196.30  "
      ]
     },
     "execution_count": 31,
     "metadata": {},
     "output_type": "execute_result"
    }
   ],
   "source": [
    "df.head()"
   ]
  },
  {
   "cell_type": "code",
   "execution_count": 32,
   "metadata": {},
   "outputs": [],
   "source": [
    "df['Date'] = pd.to_datetime(df['CREATED_DATE']).apply(lambda x: x.date())"
   ]
  },
  {
   "cell_type": "code",
   "execution_count": 33,
   "metadata": {},
   "outputs": [
    {
     "data": {
      "text/html": [
       "<div>\n",
       "<style scoped>\n",
       "    .dataframe tbody tr th:only-of-type {\n",
       "        vertical-align: middle;\n",
       "    }\n",
       "\n",
       "    .dataframe tbody tr th {\n",
       "        vertical-align: top;\n",
       "    }\n",
       "\n",
       "    .dataframe thead th {\n",
       "        text-align: right;\n",
       "    }\n",
       "</style>\n",
       "<table border=\"1\" class=\"dataframe\">\n",
       "  <thead>\n",
       "    <tr style=\"text-align: right;\">\n",
       "      <th></th>\n",
       "      <th>CREATED_DATE</th>\n",
       "      <th>USER_ID</th>\n",
       "      <th>TRIP_ID</th>\n",
       "      <th>RESTAURANTS</th>\n",
       "      <th>CITY</th>\n",
       "      <th>AMOUNT $</th>\n",
       "      <th>Date</th>\n",
       "    </tr>\n",
       "  </thead>\n",
       "  <tbody>\n",
       "    <tr>\n",
       "      <th>0</th>\n",
       "      <td>2017-01-08 23:50:18</td>\n",
       "      <td>5bd4f815-467c-472b-8c0c-d5dbc4699d72</td>\n",
       "      <td>3ce8893f-95f8-446e-8425-a4ee3894075e</td>\n",
       "      <td>McDonald</td>\n",
       "      <td>Manchester</td>\n",
       "      <td>$256.37</td>\n",
       "      <td>2017-01-08</td>\n",
       "    </tr>\n",
       "    <tr>\n",
       "      <th>1</th>\n",
       "      <td>2017-01-08 23:25:27</td>\n",
       "      <td>5c66f743-cba3-48aa-86a7-2562d051c277</td>\n",
       "      <td>56e241c8-024f-4233-ac70-a557946b6f1e</td>\n",
       "      <td>Starbucks</td>\n",
       "      <td>Manchester</td>\n",
       "      <td>$19.40</td>\n",
       "      <td>2017-01-08</td>\n",
       "    </tr>\n",
       "    <tr>\n",
       "      <th>2</th>\n",
       "      <td>2017-01-08 22:54:55</td>\n",
       "      <td>9818f617-fb92-42f9-9862-e471ac890a17</td>\n",
       "      <td>d2c618b2-1959-4fa5-bc7f-afe995461db8</td>\n",
       "      <td>McDonald</td>\n",
       "      <td>Manchester</td>\n",
       "      <td>$319.96</td>\n",
       "      <td>2017-01-08</td>\n",
       "    </tr>\n",
       "    <tr>\n",
       "      <th>3</th>\n",
       "      <td>2017-01-08 22:36:21</td>\n",
       "      <td>9818f617-fb92-42f9-9862-e471ac890a17</td>\n",
       "      <td>9f96f6f2-9b23-4b86-965d-354cd1b42fc1</td>\n",
       "      <td>Leon</td>\n",
       "      <td>Manchester</td>\n",
       "      <td>$121.76</td>\n",
       "      <td>2017-01-08</td>\n",
       "    </tr>\n",
       "    <tr>\n",
       "      <th>4</th>\n",
       "      <td>2017-01-08 22:07:16</td>\n",
       "      <td>71aa9559-601d-43a8-bee0-352862ebb72a</td>\n",
       "      <td>aa4bc253-ee24-4095-8a21-8d7f493f54f0</td>\n",
       "      <td>Itsu</td>\n",
       "      <td>Manchester</td>\n",
       "      <td>$196.30</td>\n",
       "      <td>2017-01-08</td>\n",
       "    </tr>\n",
       "  </tbody>\n",
       "</table>\n",
       "</div>"
      ],
      "text/plain": [
       "          CREATED_DATE                               USER_ID  \\\n",
       "0  2017-01-08 23:50:18  5bd4f815-467c-472b-8c0c-d5dbc4699d72   \n",
       "1  2017-01-08 23:25:27  5c66f743-cba3-48aa-86a7-2562d051c277   \n",
       "2  2017-01-08 22:54:55  9818f617-fb92-42f9-9862-e471ac890a17   \n",
       "3  2017-01-08 22:36:21  9818f617-fb92-42f9-9862-e471ac890a17   \n",
       "4  2017-01-08 22:07:16  71aa9559-601d-43a8-bee0-352862ebb72a   \n",
       "\n",
       "                                TRIP_ID RESTAURANTS        CITY AMOUNT $  \\\n",
       "0  3ce8893f-95f8-446e-8425-a4ee3894075e    McDonald  Manchester  $256.37   \n",
       "1  56e241c8-024f-4233-ac70-a557946b6f1e   Starbucks  Manchester   $19.40   \n",
       "2  d2c618b2-1959-4fa5-bc7f-afe995461db8    McDonald  Manchester  $319.96   \n",
       "3  9f96f6f2-9b23-4b86-965d-354cd1b42fc1        Leon  Manchester  $121.76   \n",
       "4  aa4bc253-ee24-4095-8a21-8d7f493f54f0        Itsu  Manchester  $196.30   \n",
       "\n",
       "         Date  \n",
       "0  2017-01-08  \n",
       "1  2017-01-08  \n",
       "2  2017-01-08  \n",
       "3  2017-01-08  \n",
       "4  2017-01-08  "
      ]
     },
     "execution_count": 33,
     "metadata": {},
     "output_type": "execute_result"
    }
   ],
   "source": [
    "df.head()"
   ]
  },
  {
   "cell_type": "code",
   "execution_count": 34,
   "metadata": {},
   "outputs": [],
   "source": [
    "df['Time'] = pd.to_datetime(df['CREATED_DATE']).dt.time"
   ]
  },
  {
   "cell_type": "code",
   "execution_count": 35,
   "metadata": {},
   "outputs": [],
   "source": [
    "df['Month'] = pd.to_datetime(df['CREATED_DATE']).dt.month"
   ]
  },
  {
   "cell_type": "code",
   "execution_count": 36,
   "metadata": {},
   "outputs": [],
   "source": [
    "df['Year'] = pd.to_datetime(df['CREATED_DATE']).dt.year"
   ]
  },
  {
   "cell_type": "code",
   "execution_count": 37,
   "metadata": {},
   "outputs": [
    {
     "data": {
      "text/html": [
       "<div>\n",
       "<style scoped>\n",
       "    .dataframe tbody tr th:only-of-type {\n",
       "        vertical-align: middle;\n",
       "    }\n",
       "\n",
       "    .dataframe tbody tr th {\n",
       "        vertical-align: top;\n",
       "    }\n",
       "\n",
       "    .dataframe thead th {\n",
       "        text-align: right;\n",
       "    }\n",
       "</style>\n",
       "<table border=\"1\" class=\"dataframe\">\n",
       "  <thead>\n",
       "    <tr style=\"text-align: right;\">\n",
       "      <th></th>\n",
       "      <th>CREATED_DATE</th>\n",
       "      <th>USER_ID</th>\n",
       "      <th>TRIP_ID</th>\n",
       "      <th>RESTAURANTS</th>\n",
       "      <th>CITY</th>\n",
       "      <th>AMOUNT $</th>\n",
       "      <th>Date</th>\n",
       "      <th>Time</th>\n",
       "      <th>Month</th>\n",
       "      <th>Year</th>\n",
       "    </tr>\n",
       "  </thead>\n",
       "  <tbody>\n",
       "    <tr>\n",
       "      <th>0</th>\n",
       "      <td>2017-01-08 23:50:18</td>\n",
       "      <td>5bd4f815-467c-472b-8c0c-d5dbc4699d72</td>\n",
       "      <td>3ce8893f-95f8-446e-8425-a4ee3894075e</td>\n",
       "      <td>McDonald</td>\n",
       "      <td>Manchester</td>\n",
       "      <td>$256.37</td>\n",
       "      <td>2017-01-08</td>\n",
       "      <td>23:50:18</td>\n",
       "      <td>1.0</td>\n",
       "      <td>2017.0</td>\n",
       "    </tr>\n",
       "    <tr>\n",
       "      <th>1</th>\n",
       "      <td>2017-01-08 23:25:27</td>\n",
       "      <td>5c66f743-cba3-48aa-86a7-2562d051c277</td>\n",
       "      <td>56e241c8-024f-4233-ac70-a557946b6f1e</td>\n",
       "      <td>Starbucks</td>\n",
       "      <td>Manchester</td>\n",
       "      <td>$19.40</td>\n",
       "      <td>2017-01-08</td>\n",
       "      <td>23:25:27</td>\n",
       "      <td>1.0</td>\n",
       "      <td>2017.0</td>\n",
       "    </tr>\n",
       "    <tr>\n",
       "      <th>2</th>\n",
       "      <td>2017-01-08 22:54:55</td>\n",
       "      <td>9818f617-fb92-42f9-9862-e471ac890a17</td>\n",
       "      <td>d2c618b2-1959-4fa5-bc7f-afe995461db8</td>\n",
       "      <td>McDonald</td>\n",
       "      <td>Manchester</td>\n",
       "      <td>$319.96</td>\n",
       "      <td>2017-01-08</td>\n",
       "      <td>22:54:55</td>\n",
       "      <td>1.0</td>\n",
       "      <td>2017.0</td>\n",
       "    </tr>\n",
       "    <tr>\n",
       "      <th>3</th>\n",
       "      <td>2017-01-08 22:36:21</td>\n",
       "      <td>9818f617-fb92-42f9-9862-e471ac890a17</td>\n",
       "      <td>9f96f6f2-9b23-4b86-965d-354cd1b42fc1</td>\n",
       "      <td>Leon</td>\n",
       "      <td>Manchester</td>\n",
       "      <td>$121.76</td>\n",
       "      <td>2017-01-08</td>\n",
       "      <td>22:36:21</td>\n",
       "      <td>1.0</td>\n",
       "      <td>2017.0</td>\n",
       "    </tr>\n",
       "    <tr>\n",
       "      <th>4</th>\n",
       "      <td>2017-01-08 22:07:16</td>\n",
       "      <td>71aa9559-601d-43a8-bee0-352862ebb72a</td>\n",
       "      <td>aa4bc253-ee24-4095-8a21-8d7f493f54f0</td>\n",
       "      <td>Itsu</td>\n",
       "      <td>Manchester</td>\n",
       "      <td>$196.30</td>\n",
       "      <td>2017-01-08</td>\n",
       "      <td>22:07:16</td>\n",
       "      <td>1.0</td>\n",
       "      <td>2017.0</td>\n",
       "    </tr>\n",
       "  </tbody>\n",
       "</table>\n",
       "</div>"
      ],
      "text/plain": [
       "          CREATED_DATE                               USER_ID  \\\n",
       "0  2017-01-08 23:50:18  5bd4f815-467c-472b-8c0c-d5dbc4699d72   \n",
       "1  2017-01-08 23:25:27  5c66f743-cba3-48aa-86a7-2562d051c277   \n",
       "2  2017-01-08 22:54:55  9818f617-fb92-42f9-9862-e471ac890a17   \n",
       "3  2017-01-08 22:36:21  9818f617-fb92-42f9-9862-e471ac890a17   \n",
       "4  2017-01-08 22:07:16  71aa9559-601d-43a8-bee0-352862ebb72a   \n",
       "\n",
       "                                TRIP_ID RESTAURANTS        CITY AMOUNT $  \\\n",
       "0  3ce8893f-95f8-446e-8425-a4ee3894075e    McDonald  Manchester  $256.37   \n",
       "1  56e241c8-024f-4233-ac70-a557946b6f1e   Starbucks  Manchester   $19.40   \n",
       "2  d2c618b2-1959-4fa5-bc7f-afe995461db8    McDonald  Manchester  $319.96   \n",
       "3  9f96f6f2-9b23-4b86-965d-354cd1b42fc1        Leon  Manchester  $121.76   \n",
       "4  aa4bc253-ee24-4095-8a21-8d7f493f54f0        Itsu  Manchester  $196.30   \n",
       "\n",
       "         Date      Time  Month    Year  \n",
       "0  2017-01-08  23:50:18    1.0  2017.0  \n",
       "1  2017-01-08  23:25:27    1.0  2017.0  \n",
       "2  2017-01-08  22:54:55    1.0  2017.0  \n",
       "3  2017-01-08  22:36:21    1.0  2017.0  \n",
       "4  2017-01-08  22:07:16    1.0  2017.0  "
      ]
     },
     "execution_count": 37,
     "metadata": {},
     "output_type": "execute_result"
    }
   ],
   "source": [
    "df.head()"
   ]
  },
  {
   "cell_type": "code",
   "execution_count": 38,
   "metadata": {},
   "outputs": [],
   "source": [
    "df['day_of_week'] = pd.to_datetime(df['Date']).dt.day_name()"
   ]
  },
  {
   "cell_type": "code",
   "execution_count": 39,
   "metadata": {},
   "outputs": [],
   "source": [
    "df['week_number'] = pd.to_datetime(df['Date']).dt.week"
   ]
  },
  {
   "cell_type": "code",
   "execution_count": 40,
   "metadata": {},
   "outputs": [],
   "source": [
    "df['AMOUNT $'].replace('[\\$,]', '', regex=True, inplace = True)"
   ]
  },
  {
   "cell_type": "code",
   "execution_count": 41,
   "metadata": {},
   "outputs": [],
   "source": [
    "df['AMOUNT $'].fillna(\"0\", inplace=True)"
   ]
  },
  {
   "cell_type": "code",
   "execution_count": 42,
   "metadata": {},
   "outputs": [
    {
     "data": {
      "text/html": [
       "<div>\n",
       "<style scoped>\n",
       "    .dataframe tbody tr th:only-of-type {\n",
       "        vertical-align: middle;\n",
       "    }\n",
       "\n",
       "    .dataframe tbody tr th {\n",
       "        vertical-align: top;\n",
       "    }\n",
       "\n",
       "    .dataframe thead th {\n",
       "        text-align: right;\n",
       "    }\n",
       "</style>\n",
       "<table border=\"1\" class=\"dataframe\">\n",
       "  <thead>\n",
       "    <tr style=\"text-align: right;\">\n",
       "      <th></th>\n",
       "      <th>CREATED_DATE</th>\n",
       "      <th>USER_ID</th>\n",
       "      <th>TRIP_ID</th>\n",
       "      <th>RESTAURANTS</th>\n",
       "      <th>CITY</th>\n",
       "      <th>AMOUNT $</th>\n",
       "      <th>Date</th>\n",
       "      <th>Time</th>\n",
       "      <th>Month</th>\n",
       "      <th>Year</th>\n",
       "      <th>day_of_week</th>\n",
       "      <th>week_number</th>\n",
       "    </tr>\n",
       "  </thead>\n",
       "  <tbody>\n",
       "    <tr>\n",
       "      <th>0</th>\n",
       "      <td>2017-01-08 23:50:18</td>\n",
       "      <td>5bd4f815-467c-472b-8c0c-d5dbc4699d72</td>\n",
       "      <td>3ce8893f-95f8-446e-8425-a4ee3894075e</td>\n",
       "      <td>McDonald</td>\n",
       "      <td>Manchester</td>\n",
       "      <td>256.37</td>\n",
       "      <td>2017-01-08</td>\n",
       "      <td>23:50:18</td>\n",
       "      <td>1.0</td>\n",
       "      <td>2017.0</td>\n",
       "      <td>Sunday</td>\n",
       "      <td>1.0</td>\n",
       "    </tr>\n",
       "    <tr>\n",
       "      <th>1</th>\n",
       "      <td>2017-01-08 23:25:27</td>\n",
       "      <td>5c66f743-cba3-48aa-86a7-2562d051c277</td>\n",
       "      <td>56e241c8-024f-4233-ac70-a557946b6f1e</td>\n",
       "      <td>Starbucks</td>\n",
       "      <td>Manchester</td>\n",
       "      <td>19.40</td>\n",
       "      <td>2017-01-08</td>\n",
       "      <td>23:25:27</td>\n",
       "      <td>1.0</td>\n",
       "      <td>2017.0</td>\n",
       "      <td>Sunday</td>\n",
       "      <td>1.0</td>\n",
       "    </tr>\n",
       "    <tr>\n",
       "      <th>2</th>\n",
       "      <td>2017-01-08 22:54:55</td>\n",
       "      <td>9818f617-fb92-42f9-9862-e471ac890a17</td>\n",
       "      <td>d2c618b2-1959-4fa5-bc7f-afe995461db8</td>\n",
       "      <td>McDonald</td>\n",
       "      <td>Manchester</td>\n",
       "      <td>319.96</td>\n",
       "      <td>2017-01-08</td>\n",
       "      <td>22:54:55</td>\n",
       "      <td>1.0</td>\n",
       "      <td>2017.0</td>\n",
       "      <td>Sunday</td>\n",
       "      <td>1.0</td>\n",
       "    </tr>\n",
       "    <tr>\n",
       "      <th>3</th>\n",
       "      <td>2017-01-08 22:36:21</td>\n",
       "      <td>9818f617-fb92-42f9-9862-e471ac890a17</td>\n",
       "      <td>9f96f6f2-9b23-4b86-965d-354cd1b42fc1</td>\n",
       "      <td>Leon</td>\n",
       "      <td>Manchester</td>\n",
       "      <td>121.76</td>\n",
       "      <td>2017-01-08</td>\n",
       "      <td>22:36:21</td>\n",
       "      <td>1.0</td>\n",
       "      <td>2017.0</td>\n",
       "      <td>Sunday</td>\n",
       "      <td>1.0</td>\n",
       "    </tr>\n",
       "    <tr>\n",
       "      <th>4</th>\n",
       "      <td>2017-01-08 22:07:16</td>\n",
       "      <td>71aa9559-601d-43a8-bee0-352862ebb72a</td>\n",
       "      <td>aa4bc253-ee24-4095-8a21-8d7f493f54f0</td>\n",
       "      <td>Itsu</td>\n",
       "      <td>Manchester</td>\n",
       "      <td>196.30</td>\n",
       "      <td>2017-01-08</td>\n",
       "      <td>22:07:16</td>\n",
       "      <td>1.0</td>\n",
       "      <td>2017.0</td>\n",
       "      <td>Sunday</td>\n",
       "      <td>1.0</td>\n",
       "    </tr>\n",
       "  </tbody>\n",
       "</table>\n",
       "</div>"
      ],
      "text/plain": [
       "          CREATED_DATE                               USER_ID  \\\n",
       "0  2017-01-08 23:50:18  5bd4f815-467c-472b-8c0c-d5dbc4699d72   \n",
       "1  2017-01-08 23:25:27  5c66f743-cba3-48aa-86a7-2562d051c277   \n",
       "2  2017-01-08 22:54:55  9818f617-fb92-42f9-9862-e471ac890a17   \n",
       "3  2017-01-08 22:36:21  9818f617-fb92-42f9-9862-e471ac890a17   \n",
       "4  2017-01-08 22:07:16  71aa9559-601d-43a8-bee0-352862ebb72a   \n",
       "\n",
       "                                TRIP_ID RESTAURANTS        CITY AMOUNT $  \\\n",
       "0  3ce8893f-95f8-446e-8425-a4ee3894075e    McDonald  Manchester   256.37   \n",
       "1  56e241c8-024f-4233-ac70-a557946b6f1e   Starbucks  Manchester    19.40   \n",
       "2  d2c618b2-1959-4fa5-bc7f-afe995461db8    McDonald  Manchester   319.96   \n",
       "3  9f96f6f2-9b23-4b86-965d-354cd1b42fc1        Leon  Manchester   121.76   \n",
       "4  aa4bc253-ee24-4095-8a21-8d7f493f54f0        Itsu  Manchester   196.30   \n",
       "\n",
       "         Date      Time  Month    Year day_of_week  week_number  \n",
       "0  2017-01-08  23:50:18    1.0  2017.0      Sunday          1.0  \n",
       "1  2017-01-08  23:25:27    1.0  2017.0      Sunday          1.0  \n",
       "2  2017-01-08  22:54:55    1.0  2017.0      Sunday          1.0  \n",
       "3  2017-01-08  22:36:21    1.0  2017.0      Sunday          1.0  \n",
       "4  2017-01-08  22:07:16    1.0  2017.0      Sunday          1.0  "
      ]
     },
     "execution_count": 42,
     "metadata": {},
     "output_type": "execute_result"
    }
   ],
   "source": [
    "df.head()"
   ]
  },
  {
   "cell_type": "code",
   "execution_count": 43,
   "metadata": {},
   "outputs": [],
   "source": [
    "df['AMOUNT $'] = pd.to_numeric(df['AMOUNT $'],errors='coerce')"
   ]
  },
  {
   "cell_type": "code",
   "execution_count": 44,
   "metadata": {},
   "outputs": [
    {
     "data": {
      "text/html": [
       "<div>\n",
       "<style scoped>\n",
       "    .dataframe tbody tr th:only-of-type {\n",
       "        vertical-align: middle;\n",
       "    }\n",
       "\n",
       "    .dataframe tbody tr th {\n",
       "        vertical-align: top;\n",
       "    }\n",
       "\n",
       "    .dataframe thead th {\n",
       "        text-align: right;\n",
       "    }\n",
       "</style>\n",
       "<table border=\"1\" class=\"dataframe\">\n",
       "  <thead>\n",
       "    <tr style=\"text-align: right;\">\n",
       "      <th></th>\n",
       "      <th>CREATED_DATE</th>\n",
       "      <th>USER_ID</th>\n",
       "      <th>TRIP_ID</th>\n",
       "      <th>RESTAURANTS</th>\n",
       "      <th>CITY</th>\n",
       "      <th>AMOUNT $</th>\n",
       "      <th>Date</th>\n",
       "      <th>Time</th>\n",
       "      <th>Month</th>\n",
       "      <th>Year</th>\n",
       "      <th>day_of_week</th>\n",
       "      <th>week_number</th>\n",
       "    </tr>\n",
       "  </thead>\n",
       "  <tbody>\n",
       "    <tr>\n",
       "      <th>0</th>\n",
       "      <td>2017-01-08 23:50:18</td>\n",
       "      <td>5bd4f815-467c-472b-8c0c-d5dbc4699d72</td>\n",
       "      <td>3ce8893f-95f8-446e-8425-a4ee3894075e</td>\n",
       "      <td>McDonald</td>\n",
       "      <td>Manchester</td>\n",
       "      <td>256.37</td>\n",
       "      <td>2017-01-08</td>\n",
       "      <td>23:50:18</td>\n",
       "      <td>1.0</td>\n",
       "      <td>2017.0</td>\n",
       "      <td>Sunday</td>\n",
       "      <td>1.0</td>\n",
       "    </tr>\n",
       "    <tr>\n",
       "      <th>1</th>\n",
       "      <td>2017-01-08 23:25:27</td>\n",
       "      <td>5c66f743-cba3-48aa-86a7-2562d051c277</td>\n",
       "      <td>56e241c8-024f-4233-ac70-a557946b6f1e</td>\n",
       "      <td>Starbucks</td>\n",
       "      <td>Manchester</td>\n",
       "      <td>19.40</td>\n",
       "      <td>2017-01-08</td>\n",
       "      <td>23:25:27</td>\n",
       "      <td>1.0</td>\n",
       "      <td>2017.0</td>\n",
       "      <td>Sunday</td>\n",
       "      <td>1.0</td>\n",
       "    </tr>\n",
       "    <tr>\n",
       "      <th>2</th>\n",
       "      <td>2017-01-08 22:54:55</td>\n",
       "      <td>9818f617-fb92-42f9-9862-e471ac890a17</td>\n",
       "      <td>d2c618b2-1959-4fa5-bc7f-afe995461db8</td>\n",
       "      <td>McDonald</td>\n",
       "      <td>Manchester</td>\n",
       "      <td>319.96</td>\n",
       "      <td>2017-01-08</td>\n",
       "      <td>22:54:55</td>\n",
       "      <td>1.0</td>\n",
       "      <td>2017.0</td>\n",
       "      <td>Sunday</td>\n",
       "      <td>1.0</td>\n",
       "    </tr>\n",
       "    <tr>\n",
       "      <th>3</th>\n",
       "      <td>2017-01-08 22:36:21</td>\n",
       "      <td>9818f617-fb92-42f9-9862-e471ac890a17</td>\n",
       "      <td>9f96f6f2-9b23-4b86-965d-354cd1b42fc1</td>\n",
       "      <td>Leon</td>\n",
       "      <td>Manchester</td>\n",
       "      <td>121.76</td>\n",
       "      <td>2017-01-08</td>\n",
       "      <td>22:36:21</td>\n",
       "      <td>1.0</td>\n",
       "      <td>2017.0</td>\n",
       "      <td>Sunday</td>\n",
       "      <td>1.0</td>\n",
       "    </tr>\n",
       "    <tr>\n",
       "      <th>4</th>\n",
       "      <td>2017-01-08 22:07:16</td>\n",
       "      <td>71aa9559-601d-43a8-bee0-352862ebb72a</td>\n",
       "      <td>aa4bc253-ee24-4095-8a21-8d7f493f54f0</td>\n",
       "      <td>Itsu</td>\n",
       "      <td>Manchester</td>\n",
       "      <td>196.30</td>\n",
       "      <td>2017-01-08</td>\n",
       "      <td>22:07:16</td>\n",
       "      <td>1.0</td>\n",
       "      <td>2017.0</td>\n",
       "      <td>Sunday</td>\n",
       "      <td>1.0</td>\n",
       "    </tr>\n",
       "  </tbody>\n",
       "</table>\n",
       "</div>"
      ],
      "text/plain": [
       "          CREATED_DATE                               USER_ID  \\\n",
       "0  2017-01-08 23:50:18  5bd4f815-467c-472b-8c0c-d5dbc4699d72   \n",
       "1  2017-01-08 23:25:27  5c66f743-cba3-48aa-86a7-2562d051c277   \n",
       "2  2017-01-08 22:54:55  9818f617-fb92-42f9-9862-e471ac890a17   \n",
       "3  2017-01-08 22:36:21  9818f617-fb92-42f9-9862-e471ac890a17   \n",
       "4  2017-01-08 22:07:16  71aa9559-601d-43a8-bee0-352862ebb72a   \n",
       "\n",
       "                                TRIP_ID RESTAURANTS        CITY  AMOUNT $  \\\n",
       "0  3ce8893f-95f8-446e-8425-a4ee3894075e    McDonald  Manchester    256.37   \n",
       "1  56e241c8-024f-4233-ac70-a557946b6f1e   Starbucks  Manchester     19.40   \n",
       "2  d2c618b2-1959-4fa5-bc7f-afe995461db8    McDonald  Manchester    319.96   \n",
       "3  9f96f6f2-9b23-4b86-965d-354cd1b42fc1        Leon  Manchester    121.76   \n",
       "4  aa4bc253-ee24-4095-8a21-8d7f493f54f0        Itsu  Manchester    196.30   \n",
       "\n",
       "         Date      Time  Month    Year day_of_week  week_number  \n",
       "0  2017-01-08  23:50:18    1.0  2017.0      Sunday          1.0  \n",
       "1  2017-01-08  23:25:27    1.0  2017.0      Sunday          1.0  \n",
       "2  2017-01-08  22:54:55    1.0  2017.0      Sunday          1.0  \n",
       "3  2017-01-08  22:36:21    1.0  2017.0      Sunday          1.0  \n",
       "4  2017-01-08  22:07:16    1.0  2017.0      Sunday          1.0  "
      ]
     },
     "execution_count": 44,
     "metadata": {},
     "output_type": "execute_result"
    }
   ],
   "source": [
    "df.head()"
   ]
  },
  {
   "cell_type": "code",
   "execution_count": 45,
   "metadata": {},
   "outputs": [],
   "source": [
    "df_users = df.groupby(['Month','CITY']).agg({'USER_ID':'nunique','TRIP_ID':'count'}).reset_index()"
   ]
  },
  {
   "cell_type": "code",
   "execution_count": 46,
   "metadata": {},
   "outputs": [
    {
     "data": {
      "text/html": [
       "<div>\n",
       "<style scoped>\n",
       "    .dataframe tbody tr th:only-of-type {\n",
       "        vertical-align: middle;\n",
       "    }\n",
       "\n",
       "    .dataframe tbody tr th {\n",
       "        vertical-align: top;\n",
       "    }\n",
       "\n",
       "    .dataframe thead th {\n",
       "        text-align: right;\n",
       "    }\n",
       "</style>\n",
       "<table border=\"1\" class=\"dataframe\">\n",
       "  <thead>\n",
       "    <tr style=\"text-align: right;\">\n",
       "      <th></th>\n",
       "      <th>Month</th>\n",
       "      <th>CITY</th>\n",
       "      <th>USER_ID</th>\n",
       "      <th>TRIP_ID</th>\n",
       "    </tr>\n",
       "  </thead>\n",
       "  <tbody>\n",
       "    <tr>\n",
       "      <th>0</th>\n",
       "      <td>1.0</td>\n",
       "      <td>Brighton</td>\n",
       "      <td>149</td>\n",
       "      <td>259</td>\n",
       "    </tr>\n",
       "    <tr>\n",
       "      <th>1</th>\n",
       "      <td>1.0</td>\n",
       "      <td>Manchester</td>\n",
       "      <td>156</td>\n",
       "      <td>293</td>\n",
       "    </tr>\n",
       "    <tr>\n",
       "      <th>2</th>\n",
       "      <td>2.0</td>\n",
       "      <td>Brighton</td>\n",
       "      <td>77</td>\n",
       "      <td>130</td>\n",
       "    </tr>\n",
       "    <tr>\n",
       "      <th>3</th>\n",
       "      <td>2.0</td>\n",
       "      <td>Manchester</td>\n",
       "      <td>78</td>\n",
       "      <td>154</td>\n",
       "    </tr>\n",
       "    <tr>\n",
       "      <th>4</th>\n",
       "      <td>3.0</td>\n",
       "      <td>Brighton</td>\n",
       "      <td>114</td>\n",
       "      <td>247</td>\n",
       "    </tr>\n",
       "    <tr>\n",
       "      <th>5</th>\n",
       "      <td>3.0</td>\n",
       "      <td>Manchester</td>\n",
       "      <td>115</td>\n",
       "      <td>273</td>\n",
       "    </tr>\n",
       "    <tr>\n",
       "      <th>6</th>\n",
       "      <td>4.0</td>\n",
       "      <td>Brighton</td>\n",
       "      <td>110</td>\n",
       "      <td>236</td>\n",
       "    </tr>\n",
       "    <tr>\n",
       "      <th>7</th>\n",
       "      <td>4.0</td>\n",
       "      <td>Manchester</td>\n",
       "      <td>124</td>\n",
       "      <td>261</td>\n",
       "    </tr>\n",
       "    <tr>\n",
       "      <th>8</th>\n",
       "      <td>5.0</td>\n",
       "      <td>Brighton</td>\n",
       "      <td>147</td>\n",
       "      <td>292</td>\n",
       "    </tr>\n",
       "    <tr>\n",
       "      <th>9</th>\n",
       "      <td>5.0</td>\n",
       "      <td>Manchester</td>\n",
       "      <td>130</td>\n",
       "      <td>313</td>\n",
       "    </tr>\n",
       "    <tr>\n",
       "      <th>10</th>\n",
       "      <td>6.0</td>\n",
       "      <td>Brighton</td>\n",
       "      <td>165</td>\n",
       "      <td>308</td>\n",
       "    </tr>\n",
       "    <tr>\n",
       "      <th>11</th>\n",
       "      <td>6.0</td>\n",
       "      <td>Manchester</td>\n",
       "      <td>164</td>\n",
       "      <td>320</td>\n",
       "    </tr>\n",
       "    <tr>\n",
       "      <th>12</th>\n",
       "      <td>7.0</td>\n",
       "      <td>Brighton</td>\n",
       "      <td>201</td>\n",
       "      <td>467</td>\n",
       "    </tr>\n",
       "    <tr>\n",
       "      <th>13</th>\n",
       "      <td>7.0</td>\n",
       "      <td>Manchester</td>\n",
       "      <td>217</td>\n",
       "      <td>458</td>\n",
       "    </tr>\n",
       "    <tr>\n",
       "      <th>14</th>\n",
       "      <td>8.0</td>\n",
       "      <td>Brighton</td>\n",
       "      <td>252</td>\n",
       "      <td>581</td>\n",
       "    </tr>\n",
       "    <tr>\n",
       "      <th>15</th>\n",
       "      <td>8.0</td>\n",
       "      <td>Manchester</td>\n",
       "      <td>261</td>\n",
       "      <td>631</td>\n",
       "    </tr>\n",
       "    <tr>\n",
       "      <th>16</th>\n",
       "      <td>9.0</td>\n",
       "      <td>Brighton</td>\n",
       "      <td>246</td>\n",
       "      <td>523</td>\n",
       "    </tr>\n",
       "    <tr>\n",
       "      <th>17</th>\n",
       "      <td>9.0</td>\n",
       "      <td>Manchester</td>\n",
       "      <td>274</td>\n",
       "      <td>557</td>\n",
       "    </tr>\n",
       "    <tr>\n",
       "      <th>18</th>\n",
       "      <td>10.0</td>\n",
       "      <td>Brighton</td>\n",
       "      <td>278</td>\n",
       "      <td>574</td>\n",
       "    </tr>\n",
       "    <tr>\n",
       "      <th>19</th>\n",
       "      <td>10.0</td>\n",
       "      <td>Manchester</td>\n",
       "      <td>287</td>\n",
       "      <td>641</td>\n",
       "    </tr>\n",
       "    <tr>\n",
       "      <th>20</th>\n",
       "      <td>11.0</td>\n",
       "      <td>Brighton</td>\n",
       "      <td>292</td>\n",
       "      <td>601</td>\n",
       "    </tr>\n",
       "    <tr>\n",
       "      <th>21</th>\n",
       "      <td>11.0</td>\n",
       "      <td>Manchester</td>\n",
       "      <td>285</td>\n",
       "      <td>595</td>\n",
       "    </tr>\n",
       "    <tr>\n",
       "      <th>22</th>\n",
       "      <td>12.0</td>\n",
       "      <td>Brighton</td>\n",
       "      <td>310</td>\n",
       "      <td>633</td>\n",
       "    </tr>\n",
       "    <tr>\n",
       "      <th>23</th>\n",
       "      <td>12.0</td>\n",
       "      <td>Manchester</td>\n",
       "      <td>302</td>\n",
       "      <td>653</td>\n",
       "    </tr>\n",
       "  </tbody>\n",
       "</table>\n",
       "</div>"
      ],
      "text/plain": [
       "    Month        CITY  USER_ID  TRIP_ID\n",
       "0     1.0    Brighton      149      259\n",
       "1     1.0  Manchester      156      293\n",
       "2     2.0    Brighton       77      130\n",
       "3     2.0  Manchester       78      154\n",
       "4     3.0    Brighton      114      247\n",
       "5     3.0  Manchester      115      273\n",
       "6     4.0    Brighton      110      236\n",
       "7     4.0  Manchester      124      261\n",
       "8     5.0    Brighton      147      292\n",
       "9     5.0  Manchester      130      313\n",
       "10    6.0    Brighton      165      308\n",
       "11    6.0  Manchester      164      320\n",
       "12    7.0    Brighton      201      467\n",
       "13    7.0  Manchester      217      458\n",
       "14    8.0    Brighton      252      581\n",
       "15    8.0  Manchester      261      631\n",
       "16    9.0    Brighton      246      523\n",
       "17    9.0  Manchester      274      557\n",
       "18   10.0    Brighton      278      574\n",
       "19   10.0  Manchester      287      641\n",
       "20   11.0    Brighton      292      601\n",
       "21   11.0  Manchester      285      595\n",
       "22   12.0    Brighton      310      633\n",
       "23   12.0  Manchester      302      653"
      ]
     },
     "execution_count": 46,
     "metadata": {},
     "output_type": "execute_result"
    }
   ],
   "source": [
    "df_users"
   ]
  },
  {
   "cell_type": "code",
   "execution_count": 47,
   "metadata": {},
   "outputs": [
    {
     "data": {
      "image/png": "[encoded data removed]",
      "text/plain": [
       "<Figure size 432x288 with 1 Axes>"
      ]
     },
     "metadata": {
      "needs_background": "light"
     },
     "output_type": "display_data"
    }
   ],
   "source": [
    "ax1 = sns.lineplot(x = \"Month\", y = \"USER_ID\", hue = \"CITY\",\n",
    "                 data = df_users)"
   ]
  },
  {
   "cell_type": "code",
   "execution_count": 48,
   "metadata": {},
   "outputs": [
    {
     "data": {
      "image/png": "[encoded data removed]",
      "text/plain": [
       "<Figure size 432x288 with 1 Axes>"
      ]
     },
     "metadata": {
      "needs_background": "light"
     },
     "output_type": "display_data"
    }
   ],
   "source": [
    "ax1 = sns.lineplot(x = \"Month\", y = \"TRIP_ID\", hue = \"CITY\",\n",
    "                 data = df_users)"
   ]
  },
  {
   "cell_type": "code",
   "execution_count": 49,
   "metadata": {},
   "outputs": [],
   "source": [
    "df_users['order_per_user'] = df_users.TRIP_ID/df_users.USER_ID"
   ]
  },
  {
   "cell_type": "code",
   "execution_count": 50,
   "metadata": {},
   "outputs": [
    {
     "data": {
      "image/png": "[encoded data removed]",
      "text/plain": [
       "<Figure size 432x288 with 1 Axes>"
      ]
     },
     "metadata": {
      "needs_background": "light"
     },
     "output_type": "display_data"
    }
   ],
   "source": [
    "ax1 = sns.lineplot(x = \"Month\", y = \"order_per_user\", hue = \"CITY\",\n",
    "                 data = df_users)"
   ]
  },
  {
   "cell_type": "code",
   "execution_count": 51,
   "metadata": {},
   "outputs": [],
   "source": [
    "df_amount = df.groupby(['Month','CITY']).agg({'AMOUNT $':'sum'}).reset_index()"
   ]
  },
  {
   "cell_type": "code",
   "execution_count": 52,
   "metadata": {},
   "outputs": [
    {
     "data": {
      "image/png": "[encoded data removed]",
      "text/plain": [
       "<Figure size 432x288 with 1 Axes>"
      ]
     },
     "metadata": {
      "needs_background": "light"
     },
     "output_type": "display_data"
    }
   ],
   "source": [
    "ax1 = sns.lineplot(x = \"Month\", y = \"AMOUNT $\", hue = \"CITY\",\n",
    "                 data = df_amount)"
   ]
  },
  {
   "cell_type": "code",
   "execution_count": 53,
   "metadata": {},
   "outputs": [],
   "source": [
    "df_days = df.groupby(['day_of_week'])['AMOUNT $'].sum().reset_index()"
   ]
  },
  {
   "cell_type": "code",
   "execution_count": 54,
   "metadata": {},
   "outputs": [
    {
     "data": {
      "text/html": [
       "<div>\n",
       "<style scoped>\n",
       "    .dataframe tbody tr th:only-of-type {\n",
       "        vertical-align: middle;\n",
       "    }\n",
       "\n",
       "    .dataframe tbody tr th {\n",
       "        vertical-align: top;\n",
       "    }\n",
       "\n",
       "    .dataframe thead th {\n",
       "        text-align: right;\n",
       "    }\n",
       "</style>\n",
       "<table border=\"1\" class=\"dataframe\">\n",
       "  <thead>\n",
       "    <tr style=\"text-align: right;\">\n",
       "      <th></th>\n",
       "      <th>day_of_week</th>\n",
       "      <th>AMOUNT $</th>\n",
       "    </tr>\n",
       "  </thead>\n",
       "  <tbody>\n",
       "    <tr>\n",
       "      <th>0</th>\n",
       "      <td>Friday</td>\n",
       "      <td>323933.40</td>\n",
       "    </tr>\n",
       "    <tr>\n",
       "      <th>1</th>\n",
       "      <td>Monday</td>\n",
       "      <td>265077.14</td>\n",
       "    </tr>\n",
       "    <tr>\n",
       "      <th>2</th>\n",
       "      <td>Saturday</td>\n",
       "      <td>299321.06</td>\n",
       "    </tr>\n",
       "    <tr>\n",
       "      <th>3</th>\n",
       "      <td>Sunday</td>\n",
       "      <td>243687.98</td>\n",
       "    </tr>\n",
       "    <tr>\n",
       "      <th>4</th>\n",
       "      <td>Thursday</td>\n",
       "      <td>281879.21</td>\n",
       "    </tr>\n",
       "    <tr>\n",
       "      <th>5</th>\n",
       "      <td>Tuesday</td>\n",
       "      <td>273088.80</td>\n",
       "    </tr>\n",
       "    <tr>\n",
       "      <th>6</th>\n",
       "      <td>Wednesday</td>\n",
       "      <td>281616.61</td>\n",
       "    </tr>\n",
       "  </tbody>\n",
       "</table>\n",
       "</div>"
      ],
      "text/plain": [
       "  day_of_week   AMOUNT $\n",
       "0      Friday  323933.40\n",
       "1      Monday  265077.14\n",
       "2    Saturday  299321.06\n",
       "3      Sunday  243687.98\n",
       "4    Thursday  281879.21\n",
       "5     Tuesday  273088.80\n",
       "6   Wednesday  281616.61"
      ]
     },
     "execution_count": 54,
     "metadata": {},
     "output_type": "execute_result"
    }
   ],
   "source": [
    "df_days"
   ]
  },
  {
   "cell_type": "code",
   "execution_count": 57,
   "metadata": {},
   "outputs": [
    {
     "data": {
      "image/png": "[encoded data removed]",
      "text/plain": [
       "<Figure size 432x288 with 1 Axes>"
      ]
     },
     "metadata": {
      "needs_background": "light"
     },
     "output_type": "display_data"
    }
   ],
   "source": [
    "# look at demand for each day\n",
    "\n",
    "ax1 = sns.barplot(x = \"day_of_week\", y = \"AMOUNT $\", \n",
    "                 data = df_days)"
   ]
  },
  {
   "cell_type": "code",
   "execution_count": 58,
   "metadata": {},
   "outputs": [],
   "source": [
    "df['nearest_hour'] = pd.to_datetime(df['CREATED_DATE']).dt.round('H').dt.hour"
   ]
  },
  {
   "cell_type": "code",
   "execution_count": 59,
   "metadata": {},
   "outputs": [],
   "source": [
    "df_hour = df.groupby(['nearest_hour']).agg({'AMOUNT $':'sum','TRIP_ID':'count'}).reset_index()"
   ]
  },
  {
   "cell_type": "code",
   "execution_count": 60,
   "metadata": {},
   "outputs": [
    {
     "data": {
      "image/png": "[encoded data removed]",
      "text/plain": [
       "<Figure size 842.4x595.44 with 1 Axes>"
      ]
     },
     "metadata": {},
     "output_type": "display_data"
    }
   ],
   "source": [
    "# look at demand for each hour\n",
    "\n",
    "sns.set(rc={'figure.figsize':(11.7,8.27)})\n",
    "ax1 = sns.barplot(x = \"nearest_hour\", y = \"AMOUNT $\",\n",
    "                 data = df_hour)"
   ]
  },
  {
   "cell_type": "code",
   "execution_count": 61,
   "metadata": {},
   "outputs": [],
   "source": [
    "df_rests = df.groupby(['Month','RESTAURANTS','CITY'])['AMOUNT $'].sum().reset_index()"
   ]
  },
  {
   "cell_type": "code",
   "execution_count": 62,
   "metadata": {},
   "outputs": [
    {
     "data": {
      "image/png": "[encoded data removed]",
      "text/plain": [
       "<Figure size 1537.22x288 with 5 Axes>"
      ]
     },
     "metadata": {},
     "output_type": "display_data"
    }
   ],
   "source": [
    "# See how different restaurants are performing in each city\n",
    "\n",
    "ax1 = sns.catplot(x = \"Month\", y = \"AMOUNT $\", hue = 'CITY' , col = \"RESTAURANTS\", kind = 'point',\n",
    "                  height = 4 , aspect = 1 , \n",
    "                 data = df_rests)"
   ]
  }
 ],
 "metadata": {
  "kernelspec": {
   "display_name": "Python 3",
   "language": "python",
   "name": "python3"
  },
  "language_info": {
   "codemirror_mode": {
    "name": "ipython",
    "version": 3
   },
   "file_extension": ".py",
   "mimetype": "text/x-python",
   "name": "python",
   "nbconvert_exporter": "python",
   "pygments_lexer": "ipython3",
   "version": "3.6.8"
  }
 },
 "nbformat": 4,
 "nbformat_minor": 2
}
